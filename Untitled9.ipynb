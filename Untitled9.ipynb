{
  "nbformat": 4,
  "nbformat_minor": 0,
  "metadata": {
    "colab": {
      "provenance": [],
      "authorship_tag": "ABX9TyOqGJVmIfnPnrP2PZ7IV7LN",
      "include_colab_link": true
    },
    "kernelspec": {
      "name": "python3",
      "display_name": "Python 3"
    },
    "language_info": {
      "name": "python"
    }
  },
  "cells": [
    {
      "cell_type": "markdown",
      "metadata": {
        "id": "view-in-github",
        "colab_type": "text"
      },
      "source": [
        "<a href=\"https://colab.research.google.com/github/SalmanMonir9/An-Information-Extraction-System/blob/main/Untitled9.ipynb\" target=\"_parent\"><img src=\"https://colab.research.google.com/assets/colab-badge.svg\" alt=\"Open In Colab\"/></a>"
      ]
    },
    {
      "cell_type": "code",
      "execution_count": 1,
      "metadata": {
        "colab": {
          "base_uri": "https://localhost:8080/"
        },
        "id": "CScydK9rl-TE",
        "outputId": "6782a013-dbb7-47e3-ccf8-ddba77b6472e"
      },
      "outputs": [
        {
          "output_type": "stream",
          "name": "stdout",
          "text": [
            "Cloning into 'An-Information-Extraction-System'...\n",
            "remote: Enumerating objects: 5, done.\u001b[K\n",
            "remote: Counting objects: 100% (5/5), done.\u001b[K\n",
            "remote: Compressing objects: 100% (4/4), done.\u001b[K\n",
            "remote: Total 5 (delta 0), reused 0 (delta 0), pack-reused 0 (from 0)\u001b[K\n",
            "Receiving objects: 100% (5/5), done.\n"
          ]
        }
      ],
      "source": [
        "!git clone https://github.com/SalmanMonir9/An-Information-Extraction-System.git"
      ]
    },
    {
      "cell_type": "code",
      "source": [
        "import os\n",
        "from pathlib import Path\n",
        "import logging\n",
        "\n",
        "\n",
        "logging.basicConfig(level=logging.INFO, format='[%(asctime)s]: %(message)s:')\n",
        "\n",
        "\n",
        "list_of_files = [\n",
        "    \"src/__init__.py\",\n",
        "    \"src/helper.py\",\n",
        "    \".env\",\n",
        "    \"requirements.txt\",\n",
        "    \"setup.py\",\n",
        "    \"app.py\",\n",
        "    \"research/trials.ipynb\",\n",
        "    \"test.py\"\n",
        "\n",
        "]\n",
        "\n",
        "\n",
        "\n",
        "for filepath in list_of_files:\n",
        "    filepath = Path(filepath)\n",
        "    filedir, filename = os.path.split(filepath)\n",
        "\n",
        "\n",
        "    if filedir !=\"\":\n",
        "        os.makedirs(filedir, exist_ok=True)\n",
        "        logging.info(f\"Creating directory; {filedir} for the file: {filename}\")\n",
        "\n",
        "    if (not os.path.exists(filepath)) or (os.path.getsize(filepath) == 0):\n",
        "        with open(filepath, \"w\") as f:\n",
        "            pass\n",
        "            logging.info(f\"Creating empty file: {filepath}\")\n",
        "\n",
        "\n",
        "    else:\n",
        "        logging.info(f\"{filename} is already exists\")"
      ],
      "metadata": {
        "id": "2_whcpRzmK6y"
      },
      "execution_count": 3,
      "outputs": []
    },
    {
      "cell_type": "code",
      "source": [],
      "metadata": {
        "id": "mROz3Rz-oFMc"
      },
      "execution_count": null,
      "outputs": []
    }
  ]
}